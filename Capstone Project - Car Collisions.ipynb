{
 "cells": [
  {
   "cell_type": "markdown",
   "metadata": {},
   "source": [
    "# Capstone Project - Car Accidents\n",
    "\n",
    "This project is Supervised achine Learning project to find out the factors most influential of car accidents"
   ]
  },
  {
   "cell_type": "markdown",
   "metadata": {},
   "source": [
    "## Data Understanding\n",
    "### Imported dataset and had a high-level view of the dataframe, columns, datatypes, null values, & counts of target variable Severity Code"
   ]
  },
  {
   "cell_type": "code",
   "execution_count": 1,
   "metadata": {},
   "outputs": [],
   "source": [
    "import pandas as pd\n",
    "import numpy as np"
   ]
  },
  {
   "cell_type": "code",
   "execution_count": 2,
   "metadata": {},
   "outputs": [
    {
     "name": "stderr",
     "output_type": "stream",
     "text": [
      "c:\\users\\chait\\appdata\\local\\programs\\python\\python38\\lib\\site-packages\\IPython\\core\\interactiveshell.py:3145: DtypeWarning: Columns (33) have mixed types.Specify dtype option on import or set low_memory=False.\n",
      "  has_raised = await self.run_ast_nodes(code_ast.body, cell_name,\n"
     ]
    }
   ],
   "source": [
    "# import the csv file\n",
    "input_file = \"Data-Collisions.csv\"\n",
    "Data_Collisions = pd.read_csv(input_file)"
   ]
  },
  {
   "cell_type": "code",
   "execution_count": 3,
   "metadata": {},
   "outputs": [
    {
     "data": {
      "text/html": [
       "<div>\n",
       "<style scoped>\n",
       "    .dataframe tbody tr th:only-of-type {\n",
       "        vertical-align: middle;\n",
       "    }\n",
       "\n",
       "    .dataframe tbody tr th {\n",
       "        vertical-align: top;\n",
       "    }\n",
       "\n",
       "    .dataframe thead th {\n",
       "        text-align: right;\n",
       "    }\n",
       "</style>\n",
       "<table border=\"1\" class=\"dataframe\">\n",
       "  <thead>\n",
       "    <tr style=\"text-align: right;\">\n",
       "      <th></th>\n",
       "      <th>SEVERITYCODE</th>\n",
       "      <th>X</th>\n",
       "      <th>Y</th>\n",
       "      <th>OBJECTID</th>\n",
       "      <th>INCKEY</th>\n",
       "      <th>COLDETKEY</th>\n",
       "      <th>REPORTNO</th>\n",
       "      <th>STATUS</th>\n",
       "      <th>ADDRTYPE</th>\n",
       "      <th>INTKEY</th>\n",
       "      <th>...</th>\n",
       "      <th>ROADCOND</th>\n",
       "      <th>LIGHTCOND</th>\n",
       "      <th>PEDROWNOTGRNT</th>\n",
       "      <th>SDOTCOLNUM</th>\n",
       "      <th>SPEEDING</th>\n",
       "      <th>ST_COLCODE</th>\n",
       "      <th>ST_COLDESC</th>\n",
       "      <th>SEGLANEKEY</th>\n",
       "      <th>CROSSWALKKEY</th>\n",
       "      <th>HITPARKEDCAR</th>\n",
       "    </tr>\n",
       "  </thead>\n",
       "  <tbody>\n",
       "    <tr>\n",
       "      <th>0</th>\n",
       "      <td>2</td>\n",
       "      <td>-122.323148</td>\n",
       "      <td>47.703140</td>\n",
       "      <td>1</td>\n",
       "      <td>1307</td>\n",
       "      <td>1307</td>\n",
       "      <td>3502005</td>\n",
       "      <td>Matched</td>\n",
       "      <td>Intersection</td>\n",
       "      <td>37475.0</td>\n",
       "      <td>...</td>\n",
       "      <td>Wet</td>\n",
       "      <td>Daylight</td>\n",
       "      <td>NaN</td>\n",
       "      <td>NaN</td>\n",
       "      <td>NaN</td>\n",
       "      <td>10</td>\n",
       "      <td>Entering at angle</td>\n",
       "      <td>0</td>\n",
       "      <td>0</td>\n",
       "      <td>N</td>\n",
       "    </tr>\n",
       "    <tr>\n",
       "      <th>1</th>\n",
       "      <td>1</td>\n",
       "      <td>-122.347294</td>\n",
       "      <td>47.647172</td>\n",
       "      <td>2</td>\n",
       "      <td>52200</td>\n",
       "      <td>52200</td>\n",
       "      <td>2607959</td>\n",
       "      <td>Matched</td>\n",
       "      <td>Block</td>\n",
       "      <td>NaN</td>\n",
       "      <td>...</td>\n",
       "      <td>Wet</td>\n",
       "      <td>Dark - Street Lights On</td>\n",
       "      <td>NaN</td>\n",
       "      <td>6354039.0</td>\n",
       "      <td>NaN</td>\n",
       "      <td>11</td>\n",
       "      <td>From same direction - both going straight - bo...</td>\n",
       "      <td>0</td>\n",
       "      <td>0</td>\n",
       "      <td>N</td>\n",
       "    </tr>\n",
       "    <tr>\n",
       "      <th>2</th>\n",
       "      <td>1</td>\n",
       "      <td>-122.334540</td>\n",
       "      <td>47.607871</td>\n",
       "      <td>3</td>\n",
       "      <td>26700</td>\n",
       "      <td>26700</td>\n",
       "      <td>1482393</td>\n",
       "      <td>Matched</td>\n",
       "      <td>Block</td>\n",
       "      <td>NaN</td>\n",
       "      <td>...</td>\n",
       "      <td>Dry</td>\n",
       "      <td>Daylight</td>\n",
       "      <td>NaN</td>\n",
       "      <td>4323031.0</td>\n",
       "      <td>NaN</td>\n",
       "      <td>32</td>\n",
       "      <td>One parked--one moving</td>\n",
       "      <td>0</td>\n",
       "      <td>0</td>\n",
       "      <td>N</td>\n",
       "    </tr>\n",
       "    <tr>\n",
       "      <th>3</th>\n",
       "      <td>1</td>\n",
       "      <td>-122.334803</td>\n",
       "      <td>47.604803</td>\n",
       "      <td>4</td>\n",
       "      <td>1144</td>\n",
       "      <td>1144</td>\n",
       "      <td>3503937</td>\n",
       "      <td>Matched</td>\n",
       "      <td>Block</td>\n",
       "      <td>NaN</td>\n",
       "      <td>...</td>\n",
       "      <td>Dry</td>\n",
       "      <td>Daylight</td>\n",
       "      <td>NaN</td>\n",
       "      <td>NaN</td>\n",
       "      <td>NaN</td>\n",
       "      <td>23</td>\n",
       "      <td>From same direction - all others</td>\n",
       "      <td>0</td>\n",
       "      <td>0</td>\n",
       "      <td>N</td>\n",
       "    </tr>\n",
       "    <tr>\n",
       "      <th>4</th>\n",
       "      <td>2</td>\n",
       "      <td>-122.306426</td>\n",
       "      <td>47.545739</td>\n",
       "      <td>5</td>\n",
       "      <td>17700</td>\n",
       "      <td>17700</td>\n",
       "      <td>1807429</td>\n",
       "      <td>Matched</td>\n",
       "      <td>Intersection</td>\n",
       "      <td>34387.0</td>\n",
       "      <td>...</td>\n",
       "      <td>Wet</td>\n",
       "      <td>Daylight</td>\n",
       "      <td>NaN</td>\n",
       "      <td>4028032.0</td>\n",
       "      <td>NaN</td>\n",
       "      <td>10</td>\n",
       "      <td>Entering at angle</td>\n",
       "      <td>0</td>\n",
       "      <td>0</td>\n",
       "      <td>N</td>\n",
       "    </tr>\n",
       "  </tbody>\n",
       "</table>\n",
       "<p>5 rows × 38 columns</p>\n",
       "</div>"
      ],
      "text/plain": [
       "   SEVERITYCODE           X          Y  OBJECTID  INCKEY  COLDETKEY REPORTNO  \\\n",
       "0             2 -122.323148  47.703140         1    1307       1307  3502005   \n",
       "1             1 -122.347294  47.647172         2   52200      52200  2607959   \n",
       "2             1 -122.334540  47.607871         3   26700      26700  1482393   \n",
       "3             1 -122.334803  47.604803         4    1144       1144  3503937   \n",
       "4             2 -122.306426  47.545739         5   17700      17700  1807429   \n",
       "\n",
       "    STATUS      ADDRTYPE   INTKEY  ... ROADCOND                LIGHTCOND  \\\n",
       "0  Matched  Intersection  37475.0  ...      Wet                 Daylight   \n",
       "1  Matched         Block      NaN  ...      Wet  Dark - Street Lights On   \n",
       "2  Matched         Block      NaN  ...      Dry                 Daylight   \n",
       "3  Matched         Block      NaN  ...      Dry                 Daylight   \n",
       "4  Matched  Intersection  34387.0  ...      Wet                 Daylight   \n",
       "\n",
       "  PEDROWNOTGRNT  SDOTCOLNUM SPEEDING ST_COLCODE  \\\n",
       "0           NaN         NaN      NaN         10   \n",
       "1           NaN   6354039.0      NaN         11   \n",
       "2           NaN   4323031.0      NaN         32   \n",
       "3           NaN         NaN      NaN         23   \n",
       "4           NaN   4028032.0      NaN         10   \n",
       "\n",
       "                                          ST_COLDESC  SEGLANEKEY  \\\n",
       "0                                  Entering at angle           0   \n",
       "1  From same direction - both going straight - bo...           0   \n",
       "2                             One parked--one moving           0   \n",
       "3                   From same direction - all others           0   \n",
       "4                                  Entering at angle           0   \n",
       "\n",
       "   CROSSWALKKEY  HITPARKEDCAR  \n",
       "0             0             N  \n",
       "1             0             N  \n",
       "2             0             N  \n",
       "3             0             N  \n",
       "4             0             N  \n",
       "\n",
       "[5 rows x 38 columns]"
      ]
     },
     "execution_count": 3,
     "metadata": {},
     "output_type": "execute_result"
    }
   ],
   "source": [
    "Data_Collisions.head(5)"
   ]
  },
  {
   "cell_type": "code",
   "execution_count": 4,
   "metadata": {},
   "outputs": [
    {
     "data": {
      "text/html": [
       "<div>\n",
       "<style scoped>\n",
       "    .dataframe tbody tr th:only-of-type {\n",
       "        vertical-align: middle;\n",
       "    }\n",
       "\n",
       "    .dataframe tbody tr th {\n",
       "        vertical-align: top;\n",
       "    }\n",
       "\n",
       "    .dataframe thead th {\n",
       "        text-align: right;\n",
       "    }\n",
       "</style>\n",
       "<table border=\"1\" class=\"dataframe\">\n",
       "  <thead>\n",
       "    <tr style=\"text-align: right;\">\n",
       "      <th></th>\n",
       "      <th>SEVERITYCODE</th>\n",
       "      <th>X</th>\n",
       "      <th>Y</th>\n",
       "      <th>OBJECTID</th>\n",
       "      <th>INCKEY</th>\n",
       "      <th>COLDETKEY</th>\n",
       "      <th>INTKEY</th>\n",
       "      <th>SEVERITYCODE.1</th>\n",
       "      <th>PERSONCOUNT</th>\n",
       "      <th>PEDCOUNT</th>\n",
       "      <th>PEDCYLCOUNT</th>\n",
       "      <th>VEHCOUNT</th>\n",
       "      <th>SDOT_COLCODE</th>\n",
       "      <th>SDOTCOLNUM</th>\n",
       "      <th>SEGLANEKEY</th>\n",
       "      <th>CROSSWALKKEY</th>\n",
       "    </tr>\n",
       "  </thead>\n",
       "  <tbody>\n",
       "    <tr>\n",
       "      <th>count</th>\n",
       "      <td>194673.000000</td>\n",
       "      <td>189339.000000</td>\n",
       "      <td>189339.000000</td>\n",
       "      <td>194673.000000</td>\n",
       "      <td>194673.000000</td>\n",
       "      <td>194673.000000</td>\n",
       "      <td>65070.000000</td>\n",
       "      <td>194673.000000</td>\n",
       "      <td>194673.000000</td>\n",
       "      <td>194673.000000</td>\n",
       "      <td>194673.000000</td>\n",
       "      <td>194673.000000</td>\n",
       "      <td>194673.000000</td>\n",
       "      <td>1.149360e+05</td>\n",
       "      <td>194673.000000</td>\n",
       "      <td>1.946730e+05</td>\n",
       "    </tr>\n",
       "    <tr>\n",
       "      <th>mean</th>\n",
       "      <td>1.298901</td>\n",
       "      <td>-122.330518</td>\n",
       "      <td>47.619543</td>\n",
       "      <td>108479.364930</td>\n",
       "      <td>141091.456350</td>\n",
       "      <td>141298.811381</td>\n",
       "      <td>37558.450576</td>\n",
       "      <td>1.298901</td>\n",
       "      <td>2.444427</td>\n",
       "      <td>0.037139</td>\n",
       "      <td>0.028391</td>\n",
       "      <td>1.920780</td>\n",
       "      <td>13.867768</td>\n",
       "      <td>7.972521e+06</td>\n",
       "      <td>269.401114</td>\n",
       "      <td>9.782452e+03</td>\n",
       "    </tr>\n",
       "    <tr>\n",
       "      <th>std</th>\n",
       "      <td>0.457778</td>\n",
       "      <td>0.029976</td>\n",
       "      <td>0.056157</td>\n",
       "      <td>62649.722558</td>\n",
       "      <td>86634.402737</td>\n",
       "      <td>86986.542110</td>\n",
       "      <td>51745.990273</td>\n",
       "      <td>0.457778</td>\n",
       "      <td>1.345929</td>\n",
       "      <td>0.198150</td>\n",
       "      <td>0.167413</td>\n",
       "      <td>0.631047</td>\n",
       "      <td>6.868755</td>\n",
       "      <td>2.553533e+06</td>\n",
       "      <td>3315.776055</td>\n",
       "      <td>7.226926e+04</td>\n",
       "    </tr>\n",
       "    <tr>\n",
       "      <th>min</th>\n",
       "      <td>1.000000</td>\n",
       "      <td>-122.419091</td>\n",
       "      <td>47.495573</td>\n",
       "      <td>1.000000</td>\n",
       "      <td>1001.000000</td>\n",
       "      <td>1001.000000</td>\n",
       "      <td>23807.000000</td>\n",
       "      <td>1.000000</td>\n",
       "      <td>0.000000</td>\n",
       "      <td>0.000000</td>\n",
       "      <td>0.000000</td>\n",
       "      <td>0.000000</td>\n",
       "      <td>0.000000</td>\n",
       "      <td>1.007024e+06</td>\n",
       "      <td>0.000000</td>\n",
       "      <td>0.000000e+00</td>\n",
       "    </tr>\n",
       "    <tr>\n",
       "      <th>25%</th>\n",
       "      <td>1.000000</td>\n",
       "      <td>-122.348673</td>\n",
       "      <td>47.575956</td>\n",
       "      <td>54267.000000</td>\n",
       "      <td>70383.000000</td>\n",
       "      <td>70383.000000</td>\n",
       "      <td>28667.000000</td>\n",
       "      <td>1.000000</td>\n",
       "      <td>2.000000</td>\n",
       "      <td>0.000000</td>\n",
       "      <td>0.000000</td>\n",
       "      <td>2.000000</td>\n",
       "      <td>11.000000</td>\n",
       "      <td>6.040015e+06</td>\n",
       "      <td>0.000000</td>\n",
       "      <td>0.000000e+00</td>\n",
       "    </tr>\n",
       "    <tr>\n",
       "      <th>50%</th>\n",
       "      <td>1.000000</td>\n",
       "      <td>-122.330224</td>\n",
       "      <td>47.615369</td>\n",
       "      <td>106912.000000</td>\n",
       "      <td>123363.000000</td>\n",
       "      <td>123363.000000</td>\n",
       "      <td>29973.000000</td>\n",
       "      <td>1.000000</td>\n",
       "      <td>2.000000</td>\n",
       "      <td>0.000000</td>\n",
       "      <td>0.000000</td>\n",
       "      <td>2.000000</td>\n",
       "      <td>13.000000</td>\n",
       "      <td>8.023022e+06</td>\n",
       "      <td>0.000000</td>\n",
       "      <td>0.000000e+00</td>\n",
       "    </tr>\n",
       "    <tr>\n",
       "      <th>75%</th>\n",
       "      <td>2.000000</td>\n",
       "      <td>-122.311937</td>\n",
       "      <td>47.663664</td>\n",
       "      <td>162272.000000</td>\n",
       "      <td>203319.000000</td>\n",
       "      <td>203459.000000</td>\n",
       "      <td>33973.000000</td>\n",
       "      <td>2.000000</td>\n",
       "      <td>3.000000</td>\n",
       "      <td>0.000000</td>\n",
       "      <td>0.000000</td>\n",
       "      <td>2.000000</td>\n",
       "      <td>14.000000</td>\n",
       "      <td>1.015501e+07</td>\n",
       "      <td>0.000000</td>\n",
       "      <td>0.000000e+00</td>\n",
       "    </tr>\n",
       "    <tr>\n",
       "      <th>max</th>\n",
       "      <td>2.000000</td>\n",
       "      <td>-122.238949</td>\n",
       "      <td>47.734142</td>\n",
       "      <td>219547.000000</td>\n",
       "      <td>331454.000000</td>\n",
       "      <td>332954.000000</td>\n",
       "      <td>757580.000000</td>\n",
       "      <td>2.000000</td>\n",
       "      <td>81.000000</td>\n",
       "      <td>6.000000</td>\n",
       "      <td>2.000000</td>\n",
       "      <td>12.000000</td>\n",
       "      <td>69.000000</td>\n",
       "      <td>1.307202e+07</td>\n",
       "      <td>525241.000000</td>\n",
       "      <td>5.239700e+06</td>\n",
       "    </tr>\n",
       "  </tbody>\n",
       "</table>\n",
       "</div>"
      ],
      "text/plain": [
       "        SEVERITYCODE              X              Y       OBJECTID  \\\n",
       "count  194673.000000  189339.000000  189339.000000  194673.000000   \n",
       "mean        1.298901    -122.330518      47.619543  108479.364930   \n",
       "std         0.457778       0.029976       0.056157   62649.722558   \n",
       "min         1.000000    -122.419091      47.495573       1.000000   \n",
       "25%         1.000000    -122.348673      47.575956   54267.000000   \n",
       "50%         1.000000    -122.330224      47.615369  106912.000000   \n",
       "75%         2.000000    -122.311937      47.663664  162272.000000   \n",
       "max         2.000000    -122.238949      47.734142  219547.000000   \n",
       "\n",
       "              INCKEY      COLDETKEY         INTKEY  SEVERITYCODE.1  \\\n",
       "count  194673.000000  194673.000000   65070.000000   194673.000000   \n",
       "mean   141091.456350  141298.811381   37558.450576        1.298901   \n",
       "std     86634.402737   86986.542110   51745.990273        0.457778   \n",
       "min      1001.000000    1001.000000   23807.000000        1.000000   \n",
       "25%     70383.000000   70383.000000   28667.000000        1.000000   \n",
       "50%    123363.000000  123363.000000   29973.000000        1.000000   \n",
       "75%    203319.000000  203459.000000   33973.000000        2.000000   \n",
       "max    331454.000000  332954.000000  757580.000000        2.000000   \n",
       "\n",
       "         PERSONCOUNT       PEDCOUNT    PEDCYLCOUNT       VEHCOUNT  \\\n",
       "count  194673.000000  194673.000000  194673.000000  194673.000000   \n",
       "mean        2.444427       0.037139       0.028391       1.920780   \n",
       "std         1.345929       0.198150       0.167413       0.631047   \n",
       "min         0.000000       0.000000       0.000000       0.000000   \n",
       "25%         2.000000       0.000000       0.000000       2.000000   \n",
       "50%         2.000000       0.000000       0.000000       2.000000   \n",
       "75%         3.000000       0.000000       0.000000       2.000000   \n",
       "max        81.000000       6.000000       2.000000      12.000000   \n",
       "\n",
       "        SDOT_COLCODE    SDOTCOLNUM     SEGLANEKEY  CROSSWALKKEY  \n",
       "count  194673.000000  1.149360e+05  194673.000000  1.946730e+05  \n",
       "mean       13.867768  7.972521e+06     269.401114  9.782452e+03  \n",
       "std         6.868755  2.553533e+06    3315.776055  7.226926e+04  \n",
       "min         0.000000  1.007024e+06       0.000000  0.000000e+00  \n",
       "25%        11.000000  6.040015e+06       0.000000  0.000000e+00  \n",
       "50%        13.000000  8.023022e+06       0.000000  0.000000e+00  \n",
       "75%        14.000000  1.015501e+07       0.000000  0.000000e+00  \n",
       "max        69.000000  1.307202e+07  525241.000000  5.239700e+06  "
      ]
     },
     "execution_count": 4,
     "metadata": {},
     "output_type": "execute_result"
    }
   ],
   "source": [
    "Data_Collisions.describe()"
   ]
  },
  {
   "cell_type": "code",
   "execution_count": 5,
   "metadata": {},
   "outputs": [
    {
     "name": "stdout",
     "output_type": "stream",
     "text": [
      "<class 'pandas.core.frame.DataFrame'>\n",
      "RangeIndex: 194673 entries, 0 to 194672\n",
      "Data columns (total 38 columns):\n",
      " #   Column          Non-Null Count   Dtype  \n",
      "---  ------          --------------   -----  \n",
      " 0   SEVERITYCODE    194673 non-null  int64  \n",
      " 1   X               189339 non-null  float64\n",
      " 2   Y               189339 non-null  float64\n",
      " 3   OBJECTID        194673 non-null  int64  \n",
      " 4   INCKEY          194673 non-null  int64  \n",
      " 5   COLDETKEY       194673 non-null  int64  \n",
      " 6   REPORTNO        194673 non-null  object \n",
      " 7   STATUS          194673 non-null  object \n",
      " 8   ADDRTYPE        192747 non-null  object \n",
      " 9   INTKEY          65070 non-null   float64\n",
      " 10  LOCATION        191996 non-null  object \n",
      " 11  EXCEPTRSNCODE   84811 non-null   object \n",
      " 12  EXCEPTRSNDESC   5638 non-null    object \n",
      " 13  SEVERITYCODE.1  194673 non-null  int64  \n",
      " 14  SEVERITYDESC    194673 non-null  object \n",
      " 15  COLLISIONTYPE   189769 non-null  object \n",
      " 16  PERSONCOUNT     194673 non-null  int64  \n",
      " 17  PEDCOUNT        194673 non-null  int64  \n",
      " 18  PEDCYLCOUNT     194673 non-null  int64  \n",
      " 19  VEHCOUNT        194673 non-null  int64  \n",
      " 20  INCDATE         194673 non-null  object \n",
      " 21  INCDTTM         194673 non-null  object \n",
      " 22  JUNCTIONTYPE    188344 non-null  object \n",
      " 23  SDOT_COLCODE    194673 non-null  int64  \n",
      " 24  SDOT_COLDESC    194673 non-null  object \n",
      " 25  INATTENTIONIND  29805 non-null   object \n",
      " 26  UNDERINFL       189789 non-null  object \n",
      " 27  WEATHER         189592 non-null  object \n",
      " 28  ROADCOND        189661 non-null  object \n",
      " 29  LIGHTCOND       189503 non-null  object \n",
      " 30  PEDROWNOTGRNT   4667 non-null    object \n",
      " 31  SDOTCOLNUM      114936 non-null  float64\n",
      " 32  SPEEDING        9333 non-null    object \n",
      " 33  ST_COLCODE      194655 non-null  object \n",
      " 34  ST_COLDESC      189769 non-null  object \n",
      " 35  SEGLANEKEY      194673 non-null  int64  \n",
      " 36  CROSSWALKKEY    194673 non-null  int64  \n",
      " 37  HITPARKEDCAR    194673 non-null  object \n",
      "dtypes: float64(4), int64(12), object(22)\n",
      "memory usage: 56.4+ MB\n"
     ]
    }
   ],
   "source": [
    "Data_Collisions.info()"
   ]
  },
  {
   "cell_type": "code",
   "execution_count": 6,
   "metadata": {},
   "outputs": [
    {
     "data": {
      "text/plain": [
       "SEVERITYCODE           0\n",
       "X                   5334\n",
       "Y                   5334\n",
       "OBJECTID               0\n",
       "INCKEY                 0\n",
       "COLDETKEY              0\n",
       "REPORTNO               0\n",
       "STATUS                 0\n",
       "ADDRTYPE            1926\n",
       "INTKEY            129603\n",
       "LOCATION            2677\n",
       "EXCEPTRSNCODE     109862\n",
       "EXCEPTRSNDESC     189035\n",
       "SEVERITYCODE.1         0\n",
       "SEVERITYDESC           0\n",
       "COLLISIONTYPE       4904\n",
       "PERSONCOUNT            0\n",
       "PEDCOUNT               0\n",
       "PEDCYLCOUNT            0\n",
       "VEHCOUNT               0\n",
       "INCDATE                0\n",
       "INCDTTM                0\n",
       "JUNCTIONTYPE        6329\n",
       "SDOT_COLCODE           0\n",
       "SDOT_COLDESC           0\n",
       "INATTENTIONIND    164868\n",
       "UNDERINFL           4884\n",
       "WEATHER             5081\n",
       "ROADCOND            5012\n",
       "LIGHTCOND           5170\n",
       "PEDROWNOTGRNT     190006\n",
       "SDOTCOLNUM         79737\n",
       "SPEEDING          185340\n",
       "ST_COLCODE            18\n",
       "ST_COLDESC          4904\n",
       "SEGLANEKEY             0\n",
       "CROSSWALKKEY           0\n",
       "HITPARKEDCAR           0\n",
       "dtype: int64"
      ]
     },
     "execution_count": 6,
     "metadata": {},
     "output_type": "execute_result"
    }
   ],
   "source": [
    "Data_Collisions.isnull().sum()"
   ]
  },
  {
   "cell_type": "code",
   "execution_count": 7,
   "metadata": {},
   "outputs": [
    {
     "data": {
      "text/plain": [
       "1    136485\n",
       "2     58188\n",
       "Name: SEVERITYCODE, dtype: int64"
      ]
     },
     "execution_count": 7,
     "metadata": {},
     "output_type": "execute_result"
    }
   ],
   "source": [
    "Data_Collisions['SEVERITYCODE'].value_counts()"
   ]
  },
  {
   "cell_type": "markdown",
   "metadata": {},
   "source": [
    "## Data Preparation\n",
    "### 1. Dropped Columns which donot help the analysis, which are coordinates, IDs, have too many null values, duplicates, Text Desciptions, Columns which are undscribes and donot have more than 1 category are eliminated\n",
    "### 2. Removed null values\n",
    "### 3. Categorized columns into numerical values\n",
    "### 4. Changed Data Types\n",
    "### 5. Balanced the dataset using SNOTE Technique & Spitt he dataset into Training & Testing"
   ]
  },
  {
   "cell_type": "code",
   "execution_count": 8,
   "metadata": {},
   "outputs": [],
   "source": [
    "New_Collisions = Data_Collisions.drop(['X','Y','OBJECTID','INCKEY','COLDETKEY','REPORTNO', 'INCDTTM',\n",
    "                                       'STATUS','INTKEY', 'LOCATION','EXCEPTRSNCODE','EXCEPTRSNDESC',\n",
    "                                       'SEVERITYCODE.1','SEVERITYDESC','INCDATE','SDOT_COLDESC',\n",
    "                                       'INATTENTIONIND','PEDROWNOTGRNT', 'SDOTCOLNUM','SPEEDING',\n",
    "                                       'ST_COLDESC', 'SEGLANEKEY','CROSSWALKKEY'], axis=1)"
   ]
  },
  {
   "cell_type": "code",
   "execution_count": 9,
   "metadata": {},
   "outputs": [
    {
     "name": "stdout",
     "output_type": "stream",
     "text": [
      "<class 'pandas.core.frame.DataFrame'>\n",
      "RangeIndex: 194673 entries, 0 to 194672\n",
      "Data columns (total 15 columns):\n",
      " #   Column         Non-Null Count   Dtype \n",
      "---  ------         --------------   ----- \n",
      " 0   SEVERITYCODE   194673 non-null  int64 \n",
      " 1   ADDRTYPE       192747 non-null  object\n",
      " 2   COLLISIONTYPE  189769 non-null  object\n",
      " 3   PERSONCOUNT    194673 non-null  int64 \n",
      " 4   PEDCOUNT       194673 non-null  int64 \n",
      " 5   PEDCYLCOUNT    194673 non-null  int64 \n",
      " 6   VEHCOUNT       194673 non-null  int64 \n",
      " 7   JUNCTIONTYPE   188344 non-null  object\n",
      " 8   SDOT_COLCODE   194673 non-null  int64 \n",
      " 9   UNDERINFL      189789 non-null  object\n",
      " 10  WEATHER        189592 non-null  object\n",
      " 11  ROADCOND       189661 non-null  object\n",
      " 12  LIGHTCOND      189503 non-null  object\n",
      " 13  ST_COLCODE     194655 non-null  object\n",
      " 14  HITPARKEDCAR   194673 non-null  object\n",
      "dtypes: int64(6), object(9)\n",
      "memory usage: 22.3+ MB\n"
     ]
    }
   ],
   "source": [
    "New_Collisions.info()"
   ]
  },
  {
   "cell_type": "code",
   "execution_count": 10,
   "metadata": {},
   "outputs": [
    {
     "data": {
      "text/plain": [
       "SEVERITYCODE        0\n",
       "ADDRTYPE         1926\n",
       "COLLISIONTYPE    4904\n",
       "PERSONCOUNT         0\n",
       "PEDCOUNT            0\n",
       "PEDCYLCOUNT         0\n",
       "VEHCOUNT            0\n",
       "JUNCTIONTYPE     6329\n",
       "SDOT_COLCODE        0\n",
       "UNDERINFL        4884\n",
       "WEATHER          5081\n",
       "ROADCOND         5012\n",
       "LIGHTCOND        5170\n",
       "ST_COLCODE         18\n",
       "HITPARKEDCAR        0\n",
       "dtype: int64"
      ]
     },
     "execution_count": 10,
     "metadata": {},
     "output_type": "execute_result"
    }
   ],
   "source": [
    "New_Collisions.isnull().sum()"
   ]
  },
  {
   "cell_type": "code",
   "execution_count": 11,
   "metadata": {},
   "outputs": [],
   "source": [
    "New_Collisions1 = New_Collisions.dropna(subset=['ADDRTYPE', 'COLLISIONTYPE', 'JUNCTIONTYPE',\n",
    "                                               'UNDERINFL', 'WEATHER', 'ROADCOND', 'LIGHTCOND', 'ST_COLCODE'])"
   ]
  },
  {
   "cell_type": "code",
   "execution_count": 12,
   "metadata": {},
   "outputs": [
    {
     "data": {
      "text/plain": [
       "SEVERITYCODE     0\n",
       "ADDRTYPE         0\n",
       "COLLISIONTYPE    0\n",
       "PERSONCOUNT      0\n",
       "PEDCOUNT         0\n",
       "PEDCYLCOUNT      0\n",
       "VEHCOUNT         0\n",
       "JUNCTIONTYPE     0\n",
       "SDOT_COLCODE     0\n",
       "UNDERINFL        0\n",
       "WEATHER          0\n",
       "ROADCOND         0\n",
       "LIGHTCOND        0\n",
       "ST_COLCODE       0\n",
       "HITPARKEDCAR     0\n",
       "dtype: int64"
      ]
     },
     "execution_count": 12,
     "metadata": {},
     "output_type": "execute_result"
    }
   ],
   "source": [
    "New_Collisions1.isnull().sum()"
   ]
  },
  {
   "cell_type": "code",
   "execution_count": 13,
   "metadata": {},
   "outputs": [
    {
     "data": {
      "text/html": [
       "<div>\n",
       "<style scoped>\n",
       "    .dataframe tbody tr th:only-of-type {\n",
       "        vertical-align: middle;\n",
       "    }\n",
       "\n",
       "    .dataframe tbody tr th {\n",
       "        vertical-align: top;\n",
       "    }\n",
       "\n",
       "    .dataframe thead th {\n",
       "        text-align: right;\n",
       "    }\n",
       "</style>\n",
       "<table border=\"1\" class=\"dataframe\">\n",
       "  <thead>\n",
       "    <tr style=\"text-align: right;\">\n",
       "      <th></th>\n",
       "      <th>SEVERITYCODE</th>\n",
       "      <th>ADDRTYPE</th>\n",
       "      <th>COLLISIONTYPE</th>\n",
       "      <th>PERSONCOUNT</th>\n",
       "      <th>PEDCOUNT</th>\n",
       "      <th>PEDCYLCOUNT</th>\n",
       "      <th>VEHCOUNT</th>\n",
       "      <th>JUNCTIONTYPE</th>\n",
       "      <th>SDOT_COLCODE</th>\n",
       "      <th>UNDERINFL</th>\n",
       "      <th>WEATHER</th>\n",
       "      <th>ROADCOND</th>\n",
       "      <th>LIGHTCOND</th>\n",
       "      <th>ST_COLCODE</th>\n",
       "      <th>HITPARKEDCAR</th>\n",
       "    </tr>\n",
       "  </thead>\n",
       "  <tbody>\n",
       "    <tr>\n",
       "      <th>0</th>\n",
       "      <td>2</td>\n",
       "      <td>Intersection</td>\n",
       "      <td>Angles</td>\n",
       "      <td>2</td>\n",
       "      <td>0</td>\n",
       "      <td>0</td>\n",
       "      <td>2</td>\n",
       "      <td>At Intersection (intersection related)</td>\n",
       "      <td>11</td>\n",
       "      <td>N</td>\n",
       "      <td>Overcast</td>\n",
       "      <td>Wet</td>\n",
       "      <td>Daylight</td>\n",
       "      <td>10</td>\n",
       "      <td>N</td>\n",
       "    </tr>\n",
       "    <tr>\n",
       "      <th>1</th>\n",
       "      <td>1</td>\n",
       "      <td>Block</td>\n",
       "      <td>Sideswipe</td>\n",
       "      <td>2</td>\n",
       "      <td>0</td>\n",
       "      <td>0</td>\n",
       "      <td>2</td>\n",
       "      <td>Mid-Block (not related to intersection)</td>\n",
       "      <td>16</td>\n",
       "      <td>0</td>\n",
       "      <td>Raining</td>\n",
       "      <td>Wet</td>\n",
       "      <td>Dark - Street Lights On</td>\n",
       "      <td>11</td>\n",
       "      <td>N</td>\n",
       "    </tr>\n",
       "    <tr>\n",
       "      <th>2</th>\n",
       "      <td>1</td>\n",
       "      <td>Block</td>\n",
       "      <td>Parked Car</td>\n",
       "      <td>4</td>\n",
       "      <td>0</td>\n",
       "      <td>0</td>\n",
       "      <td>3</td>\n",
       "      <td>Mid-Block (not related to intersection)</td>\n",
       "      <td>14</td>\n",
       "      <td>0</td>\n",
       "      <td>Overcast</td>\n",
       "      <td>Dry</td>\n",
       "      <td>Daylight</td>\n",
       "      <td>32</td>\n",
       "      <td>N</td>\n",
       "    </tr>\n",
       "    <tr>\n",
       "      <th>3</th>\n",
       "      <td>1</td>\n",
       "      <td>Block</td>\n",
       "      <td>Other</td>\n",
       "      <td>3</td>\n",
       "      <td>0</td>\n",
       "      <td>0</td>\n",
       "      <td>3</td>\n",
       "      <td>Mid-Block (not related to intersection)</td>\n",
       "      <td>11</td>\n",
       "      <td>N</td>\n",
       "      <td>Clear</td>\n",
       "      <td>Dry</td>\n",
       "      <td>Daylight</td>\n",
       "      <td>23</td>\n",
       "      <td>N</td>\n",
       "    </tr>\n",
       "    <tr>\n",
       "      <th>4</th>\n",
       "      <td>2</td>\n",
       "      <td>Intersection</td>\n",
       "      <td>Angles</td>\n",
       "      <td>2</td>\n",
       "      <td>0</td>\n",
       "      <td>0</td>\n",
       "      <td>2</td>\n",
       "      <td>At Intersection (intersection related)</td>\n",
       "      <td>11</td>\n",
       "      <td>0</td>\n",
       "      <td>Raining</td>\n",
       "      <td>Wet</td>\n",
       "      <td>Daylight</td>\n",
       "      <td>10</td>\n",
       "      <td>N</td>\n",
       "    </tr>\n",
       "  </tbody>\n",
       "</table>\n",
       "</div>"
      ],
      "text/plain": [
       "   SEVERITYCODE      ADDRTYPE COLLISIONTYPE  PERSONCOUNT  PEDCOUNT  \\\n",
       "0             2  Intersection        Angles            2         0   \n",
       "1             1         Block     Sideswipe            2         0   \n",
       "2             1         Block    Parked Car            4         0   \n",
       "3             1         Block         Other            3         0   \n",
       "4             2  Intersection        Angles            2         0   \n",
       "\n",
       "   PEDCYLCOUNT  VEHCOUNT                             JUNCTIONTYPE  \\\n",
       "0            0         2   At Intersection (intersection related)   \n",
       "1            0         2  Mid-Block (not related to intersection)   \n",
       "2            0         3  Mid-Block (not related to intersection)   \n",
       "3            0         3  Mid-Block (not related to intersection)   \n",
       "4            0         2   At Intersection (intersection related)   \n",
       "\n",
       "   SDOT_COLCODE UNDERINFL   WEATHER ROADCOND                LIGHTCOND  \\\n",
       "0            11         N  Overcast      Wet                 Daylight   \n",
       "1            16         0   Raining      Wet  Dark - Street Lights On   \n",
       "2            14         0  Overcast      Dry                 Daylight   \n",
       "3            11         N     Clear      Dry                 Daylight   \n",
       "4            11         0   Raining      Wet                 Daylight   \n",
       "\n",
       "  ST_COLCODE HITPARKEDCAR  \n",
       "0         10            N  \n",
       "1         11            N  \n",
       "2         32            N  \n",
       "3         23            N  \n",
       "4         10            N  "
      ]
     },
     "execution_count": 13,
     "metadata": {},
     "output_type": "execute_result"
    }
   ],
   "source": [
    "New_Collisions1.head(5)"
   ]
  },
  {
   "cell_type": "code",
   "execution_count": 14,
   "metadata": {},
   "outputs": [
    {
     "data": {
      "text/plain": [
       "Block           119362\n",
       "Intersection     63298\n",
       "Alley              235\n",
       "Name: ADDRTYPE, dtype: int64"
      ]
     },
     "execution_count": 14,
     "metadata": {},
     "output_type": "execute_result"
    }
   ],
   "source": [
    "New_Collisions1['ADDRTYPE'].value_counts()"
   ]
  },
  {
   "cell_type": "code",
   "execution_count": 15,
   "metadata": {},
   "outputs": [
    {
     "data": {
      "text/plain": [
       "Parked Car    43119\n",
       "Angles        34453\n",
       "Rear Ended    33641\n",
       "Other         22960\n",
       "Sideswipe     18285\n",
       "Left Turn     13637\n",
       "Pedestrian     6513\n",
       "Cycles         5362\n",
       "Right Turn     2929\n",
       "Head On        1996\n",
       "Name: COLLISIONTYPE, dtype: int64"
      ]
     },
     "execution_count": 15,
     "metadata": {},
     "output_type": "execute_result"
    }
   ],
   "source": [
    "New_Collisions1['COLLISIONTYPE'].value_counts()"
   ]
  },
  {
   "cell_type": "code",
   "execution_count": 16,
   "metadata": {},
   "outputs": [
    {
     "data": {
      "text/plain": [
       "Mid-Block (not related to intersection)              86609\n",
       "At Intersection (intersection related)               61206\n",
       "Mid-Block (but intersection related)                 22341\n",
       "Driveway Junction                                    10519\n",
       "At Intersection (but not related to intersection)     2055\n",
       "Ramp Junction                                          160\n",
       "Unknown                                                  5\n",
       "Name: JUNCTIONTYPE, dtype: int64"
      ]
     },
     "execution_count": 16,
     "metadata": {},
     "output_type": "execute_result"
    }
   ],
   "source": [
    "New_Collisions1['JUNCTIONTYPE'].value_counts()"
   ]
  },
  {
   "cell_type": "code",
   "execution_count": 17,
   "metadata": {},
   "outputs": [
    {
     "data": {
      "text/plain": [
       "N    94956\n",
       "0    78942\n",
       "Y     5020\n",
       "1     3977\n",
       "Name: UNDERINFL, dtype: int64"
      ]
     },
     "execution_count": 17,
     "metadata": {},
     "output_type": "execute_result"
    }
   ],
   "source": [
    "New_Collisions1['UNDERINFL'].value_counts()"
   ]
  },
  {
   "cell_type": "code",
   "execution_count": 18,
   "metadata": {},
   "outputs": [
    {
     "data": {
      "text/plain": [
       "Clear                       109059\n",
       "Raining                      32642\n",
       "Overcast                     27183\n",
       "Unknown                      11637\n",
       "Snowing                        881\n",
       "Other                          746\n",
       "Fog/Smog/Smoke                 556\n",
       "Sleet/Hail/Freezing Rain       112\n",
       "Blowing Sand/Dirt               49\n",
       "Severe Crosswind                25\n",
       "Partly Cloudy                    5\n",
       "Name: WEATHER, dtype: int64"
      ]
     },
     "execution_count": 18,
     "metadata": {},
     "output_type": "execute_result"
    }
   ],
   "source": [
    "New_Collisions1['WEATHER'].value_counts()"
   ]
  },
  {
   "cell_type": "code",
   "execution_count": 19,
   "metadata": {},
   "outputs": [
    {
     "data": {
      "text/plain": [
       "Dry               122153\n",
       "Wet                46710\n",
       "Unknown            11519\n",
       "Ice                 1177\n",
       "Snow/Slush           978\n",
       "Other                123\n",
       "Standing Water       108\n",
       "Sand/Mud/Dirt         67\n",
       "Oil                   60\n",
       "Name: ROADCOND, dtype: int64"
      ]
     },
     "execution_count": 19,
     "metadata": {},
     "output_type": "execute_result"
    }
   ],
   "source": [
    "New_Collisions1['ROADCOND'].value_counts()"
   ]
  },
  {
   "cell_type": "code",
   "execution_count": 20,
   "metadata": {},
   "outputs": [
    {
     "data": {
      "text/plain": [
       "Daylight                    113837\n",
       "Dark - Street Lights On      47547\n",
       "Unknown                      10448\n",
       "Dusk                          5771\n",
       "Dawn                          2453\n",
       "Dark - No Street Lights       1461\n",
       "Dark - Street Lights Off      1157\n",
       "Other                          210\n",
       "Dark - Unknown Lighting         11\n",
       "Name: LIGHTCOND, dtype: int64"
      ]
     },
     "execution_count": 20,
     "metadata": {},
     "output_type": "execute_result"
    }
   ],
   "source": [
    "New_Collisions1['LIGHTCOND'].value_counts()"
   ]
  },
  {
   "cell_type": "code",
   "execution_count": 21,
   "metadata": {},
   "outputs": [
    {
     "data": {
      "text/plain": [
       "N    177205\n",
       "Y      5690\n",
       "Name: HITPARKEDCAR, dtype: int64"
      ]
     },
     "execution_count": 21,
     "metadata": {},
     "output_type": "execute_result"
    }
   ],
   "source": [
    "New_Collisions1['HITPARKEDCAR'].value_counts()"
   ]
  },
  {
   "cell_type": "code",
   "execution_count": 22,
   "metadata": {},
   "outputs": [],
   "source": [
    "Cleanup = {\"ADDRTYPE\":      {\"Block\": 1, \"Intersection\": 2, \"Alley\": 3},\n",
    "           \"COLLISIONTYPE\": {\"Parked Car\": 1, \"Angles\": 2, \"Rear Ended\": 3, \"Other\": 4, \n",
    "                             \"Sideswipe\": 5, \"Left Turn\": 6, \"Pedestrian\": 7, \"Cycles\": 8, \"Right Turn\": 9, \"Head On\": 10},\n",
    "           \"JUNCTIONTYPE\":  {\"Mid-Block (not related to intersection)\": 1, \"At Intersection (intersection related)\": 2, \n",
    "                             \"Mid-Block (but intersection related)\": 3, \"Driveway Junction\": 4, \n",
    "                             \"At Intersection (but not related to intersection)\": 5, \"Ramp Junction\": 6, \"Unknown\": 7},\n",
    "           \"UNDERINFL\":     {\"Y\": 1, \"N\":0},\n",
    "           \"WEATHER\":       {\"Clear\": 1, \"Raining\": 2, \"Overcast\": 3, \"Unknown\": 4, \"Snowing\": 5, \"Other\": 6, \n",
    "                             \"Fog/Smog/Smoke\": 7, \"Sleet/Hail/Freezing Rain\": 8, \"Blowing Sand/Dirt\": 9, \n",
    "                             \"Severe Crosswind\": 10, \"Partly Cloudy\": 11},\n",
    "           \"ROADCOND\":      {\"Dry\": 1, \"Wet\": 2, \"Unknown\": 3, \"Ice\": 4, \"Snow/Slush\": 5, \"Other\": 6, \"Standing Water\": 7, \n",
    "                             \"Sand/Mud/Dirt\": 8, \"Oil\":9},\n",
    "           \"LIGHTCOND\":     {\"Daylight\": 1, \"Dark - Street Lights On\": 2, \"Unknown\": 3, \"Dusk\": 4, \"Dawn\": 5, \n",
    "                             \"Dark - No Street Lights\": 6, \"Dark - Street Lights Off\": 7, \"Other\": 8, \n",
    "                             \"Dark - Unknown Lighting\": 9},\n",
    "           \"HITPARKEDCAR\":  {\"Y\": 1, \"N\":0}}"
   ]
  },
  {
   "cell_type": "code",
   "execution_count": 23,
   "metadata": {},
   "outputs": [
    {
     "name": "stderr",
     "output_type": "stream",
     "text": [
      "c:\\users\\chait\\appdata\\local\\programs\\python\\python38\\lib\\site-packages\\pandas\\core\\indexing.py:1745: SettingWithCopyWarning: \n",
      "A value is trying to be set on a copy of a slice from a DataFrame.\n",
      "Try using .loc[row_indexer,col_indexer] = value instead\n",
      "\n",
      "See the caveats in the documentation: https://pandas.pydata.org/pandas-docs/stable/user_guide/indexing.html#returning-a-view-versus-a-copy\n",
      "  isetter(ilocs[0], value)\n"
     ]
    },
    {
     "data": {
      "text/html": [
       "<div>\n",
       "<style scoped>\n",
       "    .dataframe tbody tr th:only-of-type {\n",
       "        vertical-align: middle;\n",
       "    }\n",
       "\n",
       "    .dataframe tbody tr th {\n",
       "        vertical-align: top;\n",
       "    }\n",
       "\n",
       "    .dataframe thead th {\n",
       "        text-align: right;\n",
       "    }\n",
       "</style>\n",
       "<table border=\"1\" class=\"dataframe\">\n",
       "  <thead>\n",
       "    <tr style=\"text-align: right;\">\n",
       "      <th></th>\n",
       "      <th>SEVERITYCODE</th>\n",
       "      <th>ADDRTYPE</th>\n",
       "      <th>COLLISIONTYPE</th>\n",
       "      <th>PERSONCOUNT</th>\n",
       "      <th>PEDCOUNT</th>\n",
       "      <th>PEDCYLCOUNT</th>\n",
       "      <th>VEHCOUNT</th>\n",
       "      <th>JUNCTIONTYPE</th>\n",
       "      <th>SDOT_COLCODE</th>\n",
       "      <th>UNDERINFL</th>\n",
       "      <th>WEATHER</th>\n",
       "      <th>ROADCOND</th>\n",
       "      <th>LIGHTCOND</th>\n",
       "      <th>ST_COLCODE</th>\n",
       "      <th>HITPARKEDCAR</th>\n",
       "    </tr>\n",
       "  </thead>\n",
       "  <tbody>\n",
       "    <tr>\n",
       "      <th>0</th>\n",
       "      <td>2</td>\n",
       "      <td>2</td>\n",
       "      <td>2</td>\n",
       "      <td>2</td>\n",
       "      <td>0</td>\n",
       "      <td>0</td>\n",
       "      <td>2</td>\n",
       "      <td>2</td>\n",
       "      <td>11</td>\n",
       "      <td>0</td>\n",
       "      <td>3</td>\n",
       "      <td>2</td>\n",
       "      <td>1</td>\n",
       "      <td>10</td>\n",
       "      <td>0</td>\n",
       "    </tr>\n",
       "    <tr>\n",
       "      <th>1</th>\n",
       "      <td>1</td>\n",
       "      <td>1</td>\n",
       "      <td>5</td>\n",
       "      <td>2</td>\n",
       "      <td>0</td>\n",
       "      <td>0</td>\n",
       "      <td>2</td>\n",
       "      <td>1</td>\n",
       "      <td>16</td>\n",
       "      <td>0</td>\n",
       "      <td>2</td>\n",
       "      <td>2</td>\n",
       "      <td>2</td>\n",
       "      <td>11</td>\n",
       "      <td>0</td>\n",
       "    </tr>\n",
       "    <tr>\n",
       "      <th>2</th>\n",
       "      <td>1</td>\n",
       "      <td>1</td>\n",
       "      <td>1</td>\n",
       "      <td>4</td>\n",
       "      <td>0</td>\n",
       "      <td>0</td>\n",
       "      <td>3</td>\n",
       "      <td>1</td>\n",
       "      <td>14</td>\n",
       "      <td>0</td>\n",
       "      <td>3</td>\n",
       "      <td>1</td>\n",
       "      <td>1</td>\n",
       "      <td>32</td>\n",
       "      <td>0</td>\n",
       "    </tr>\n",
       "    <tr>\n",
       "      <th>3</th>\n",
       "      <td>1</td>\n",
       "      <td>1</td>\n",
       "      <td>4</td>\n",
       "      <td>3</td>\n",
       "      <td>0</td>\n",
       "      <td>0</td>\n",
       "      <td>3</td>\n",
       "      <td>1</td>\n",
       "      <td>11</td>\n",
       "      <td>0</td>\n",
       "      <td>1</td>\n",
       "      <td>1</td>\n",
       "      <td>1</td>\n",
       "      <td>23</td>\n",
       "      <td>0</td>\n",
       "    </tr>\n",
       "    <tr>\n",
       "      <th>4</th>\n",
       "      <td>2</td>\n",
       "      <td>2</td>\n",
       "      <td>2</td>\n",
       "      <td>2</td>\n",
       "      <td>0</td>\n",
       "      <td>0</td>\n",
       "      <td>2</td>\n",
       "      <td>2</td>\n",
       "      <td>11</td>\n",
       "      <td>0</td>\n",
       "      <td>2</td>\n",
       "      <td>2</td>\n",
       "      <td>1</td>\n",
       "      <td>10</td>\n",
       "      <td>0</td>\n",
       "    </tr>\n",
       "  </tbody>\n",
       "</table>\n",
       "</div>"
      ],
      "text/plain": [
       "   SEVERITYCODE  ADDRTYPE  COLLISIONTYPE  PERSONCOUNT  PEDCOUNT  PEDCYLCOUNT  \\\n",
       "0             2         2              2            2         0            0   \n",
       "1             1         1              5            2         0            0   \n",
       "2             1         1              1            4         0            0   \n",
       "3             1         1              4            3         0            0   \n",
       "4             2         2              2            2         0            0   \n",
       "\n",
       "   VEHCOUNT  JUNCTIONTYPE  SDOT_COLCODE UNDERINFL  WEATHER  ROADCOND  \\\n",
       "0         2             2            11         0        3         2   \n",
       "1         2             1            16         0        2         2   \n",
       "2         3             1            14         0        3         1   \n",
       "3         3             1            11         0        1         1   \n",
       "4         2             2            11         0        2         2   \n",
       "\n",
       "   LIGHTCOND ST_COLCODE  HITPARKEDCAR  \n",
       "0          1         10             0  \n",
       "1          2         11             0  \n",
       "2          1         32             0  \n",
       "3          1         23             0  \n",
       "4          1         10             0  "
      ]
     },
     "execution_count": 23,
     "metadata": {},
     "output_type": "execute_result"
    }
   ],
   "source": [
    "New_Collisions1.replace(Cleanup, inplace=True)\n",
    "New_Collisions1.head(5)"
   ]
  },
  {
   "cell_type": "code",
   "execution_count": 24,
   "metadata": {},
   "outputs": [
    {
     "name": "stdout",
     "output_type": "stream",
     "text": [
      "<class 'pandas.core.frame.DataFrame'>\n",
      "Int64Index: 182895 entries, 0 to 194672\n",
      "Data columns (total 15 columns):\n",
      " #   Column         Non-Null Count   Dtype \n",
      "---  ------         --------------   ----- \n",
      " 0   SEVERITYCODE   182895 non-null  int64 \n",
      " 1   ADDRTYPE       182895 non-null  int64 \n",
      " 2   COLLISIONTYPE  182895 non-null  int64 \n",
      " 3   PERSONCOUNT    182895 non-null  int64 \n",
      " 4   PEDCOUNT       182895 non-null  int64 \n",
      " 5   PEDCYLCOUNT    182895 non-null  int64 \n",
      " 6   VEHCOUNT       182895 non-null  int64 \n",
      " 7   JUNCTIONTYPE   182895 non-null  int64 \n",
      " 8   SDOT_COLCODE   182895 non-null  int64 \n",
      " 9   UNDERINFL      182895 non-null  object\n",
      " 10  WEATHER        182895 non-null  int64 \n",
      " 11  ROADCOND       182895 non-null  int64 \n",
      " 12  LIGHTCOND      182895 non-null  int64 \n",
      " 13  ST_COLCODE     182895 non-null  object\n",
      " 14  HITPARKEDCAR   182895 non-null  int64 \n",
      "dtypes: int64(13), object(2)\n",
      "memory usage: 22.3+ MB\n"
     ]
    }
   ],
   "source": [
    "New_Collisions1.info()"
   ]
  },
  {
   "cell_type": "code",
   "execution_count": 25,
   "metadata": {},
   "outputs": [
    {
     "name": "stderr",
     "output_type": "stream",
     "text": [
      "<ipython-input-25-be07e8b5e869>:1: SettingWithCopyWarning: \n",
      "A value is trying to be set on a copy of a slice from a DataFrame.\n",
      "Try using .loc[row_indexer,col_indexer] = value instead\n",
      "\n",
      "See the caveats in the documentation: https://pandas.pydata.org/pandas-docs/stable/user_guide/indexing.html#returning-a-view-versus-a-copy\n",
      "  New_Collisions1['UNDERINFL'] = np.int64(New_Collisions1['UNDERINFL'])\n",
      "<ipython-input-25-be07e8b5e869>:2: SettingWithCopyWarning: \n",
      "A value is trying to be set on a copy of a slice from a DataFrame.\n",
      "Try using .loc[row_indexer,col_indexer] = value instead\n",
      "\n",
      "See the caveats in the documentation: https://pandas.pydata.org/pandas-docs/stable/user_guide/indexing.html#returning-a-view-versus-a-copy\n",
      "  New_Collisions1['ST_COLCODE'] = np.int64(New_Collisions1['ST_COLCODE'])\n"
     ]
    }
   ],
   "source": [
    "New_Collisions1['UNDERINFL'] = np.int64(New_Collisions1['UNDERINFL'])\n",
    "New_Collisions1['ST_COLCODE'] = np.int64(New_Collisions1['ST_COLCODE'])"
   ]
  },
  {
   "cell_type": "code",
   "execution_count": 26,
   "metadata": {},
   "outputs": [
    {
     "name": "stdout",
     "output_type": "stream",
     "text": [
      "<class 'pandas.core.frame.DataFrame'>\n",
      "Int64Index: 182895 entries, 0 to 194672\n",
      "Data columns (total 15 columns):\n",
      " #   Column         Non-Null Count   Dtype\n",
      "---  ------         --------------   -----\n",
      " 0   SEVERITYCODE   182895 non-null  int64\n",
      " 1   ADDRTYPE       182895 non-null  int64\n",
      " 2   COLLISIONTYPE  182895 non-null  int64\n",
      " 3   PERSONCOUNT    182895 non-null  int64\n",
      " 4   PEDCOUNT       182895 non-null  int64\n",
      " 5   PEDCYLCOUNT    182895 non-null  int64\n",
      " 6   VEHCOUNT       182895 non-null  int64\n",
      " 7   JUNCTIONTYPE   182895 non-null  int64\n",
      " 8   SDOT_COLCODE   182895 non-null  int64\n",
      " 9   UNDERINFL      182895 non-null  int64\n",
      " 10  WEATHER        182895 non-null  int64\n",
      " 11  ROADCOND       182895 non-null  int64\n",
      " 12  LIGHTCOND      182895 non-null  int64\n",
      " 13  ST_COLCODE     182895 non-null  int64\n",
      " 14  HITPARKEDCAR   182895 non-null  int64\n",
      "dtypes: int64(15)\n",
      "memory usage: 22.3 MB\n"
     ]
    }
   ],
   "source": [
    "New_Collisions1.info()"
   ]
  },
  {
   "cell_type": "code",
   "execution_count": 27,
   "metadata": {},
   "outputs": [],
   "source": [
    "features = New_Collisions1.drop(['SEVERITYCODE'], axis=1)"
   ]
  },
  {
   "cell_type": "code",
   "execution_count": 28,
   "metadata": {},
   "outputs": [
    {
     "data": {
      "text/html": [
       "<div>\n",
       "<style scoped>\n",
       "    .dataframe tbody tr th:only-of-type {\n",
       "        vertical-align: middle;\n",
       "    }\n",
       "\n",
       "    .dataframe tbody tr th {\n",
       "        vertical-align: top;\n",
       "    }\n",
       "\n",
       "    .dataframe thead th {\n",
       "        text-align: right;\n",
       "    }\n",
       "</style>\n",
       "<table border=\"1\" class=\"dataframe\">\n",
       "  <thead>\n",
       "    <tr style=\"text-align: right;\">\n",
       "      <th></th>\n",
       "      <th>ADDRTYPE</th>\n",
       "      <th>COLLISIONTYPE</th>\n",
       "      <th>PERSONCOUNT</th>\n",
       "      <th>PEDCOUNT</th>\n",
       "      <th>PEDCYLCOUNT</th>\n",
       "      <th>VEHCOUNT</th>\n",
       "      <th>JUNCTIONTYPE</th>\n",
       "      <th>SDOT_COLCODE</th>\n",
       "      <th>UNDERINFL</th>\n",
       "      <th>WEATHER</th>\n",
       "      <th>ROADCOND</th>\n",
       "      <th>LIGHTCOND</th>\n",
       "      <th>ST_COLCODE</th>\n",
       "      <th>HITPARKEDCAR</th>\n",
       "    </tr>\n",
       "  </thead>\n",
       "  <tbody>\n",
       "    <tr>\n",
       "      <th>ADDRTYPE</th>\n",
       "      <td>1.000000</td>\n",
       "      <td>0.211776</td>\n",
       "      <td>0.056686</td>\n",
       "      <td>0.145445</td>\n",
       "      <td>0.082704</td>\n",
       "      <td>-0.095072</td>\n",
       "      <td>0.226536</td>\n",
       "      <td>-0.071258</td>\n",
       "      <td>-0.046892</td>\n",
       "      <td>-0.071582</td>\n",
       "      <td>-0.077608</td>\n",
       "      <td>-0.064258</td>\n",
       "      <td>-0.194237</td>\n",
       "      <td>-0.119919</td>\n",
       "    </tr>\n",
       "    <tr>\n",
       "      <th>COLLISIONTYPE</th>\n",
       "      <td>0.211776</td>\n",
       "      <td>1.000000</td>\n",
       "      <td>0.002673</td>\n",
       "      <td>0.313702</td>\n",
       "      <td>0.372841</td>\n",
       "      <td>-0.331278</td>\n",
       "      <td>0.139857</td>\n",
       "      <td>0.301871</td>\n",
       "      <td>-0.011129</td>\n",
       "      <td>-0.103638</td>\n",
       "      <td>-0.096277</td>\n",
       "      <td>-0.088450</td>\n",
       "      <td>-0.007274</td>\n",
       "      <td>-0.183681</td>\n",
       "    </tr>\n",
       "    <tr>\n",
       "      <th>PERSONCOUNT</th>\n",
       "      <td>0.056686</td>\n",
       "      <td>0.002673</td>\n",
       "      <td>1.000000</td>\n",
       "      <td>-0.027211</td>\n",
       "      <td>-0.042725</td>\n",
       "      <td>0.399674</td>\n",
       "      <td>0.055472</td>\n",
       "      <td>-0.168948</td>\n",
       "      <td>0.018792</td>\n",
       "      <td>-0.055842</td>\n",
       "      <td>-0.055682</td>\n",
       "      <td>-0.047089</td>\n",
       "      <td>-0.209080</td>\n",
       "      <td>-0.046242</td>\n",
       "    </tr>\n",
       "    <tr>\n",
       "      <th>PEDCOUNT</th>\n",
       "      <td>0.145445</td>\n",
       "      <td>0.313702</td>\n",
       "      <td>-0.027211</td>\n",
       "      <td>1.000000</td>\n",
       "      <td>-0.018662</td>\n",
       "      <td>-0.317361</td>\n",
       "      <td>0.018081</td>\n",
       "      <td>0.274884</td>\n",
       "      <td>0.014719</td>\n",
       "      <td>-0.013685</td>\n",
       "      <td>-0.010833</td>\n",
       "      <td>0.003564</td>\n",
       "      <td>-0.264272</td>\n",
       "      <td>-0.032722</td>\n",
       "    </tr>\n",
       "    <tr>\n",
       "      <th>PEDCYLCOUNT</th>\n",
       "      <td>0.082704</td>\n",
       "      <td>0.372841</td>\n",
       "      <td>-0.042725</td>\n",
       "      <td>-0.018662</td>\n",
       "      <td>1.000000</td>\n",
       "      <td>-0.307314</td>\n",
       "      <td>0.036734</td>\n",
       "      <td>0.407915</td>\n",
       "      <td>-0.018492</td>\n",
       "      <td>-0.041459</td>\n",
       "      <td>-0.048844</td>\n",
       "      <td>-0.024753</td>\n",
       "      <td>0.202760</td>\n",
       "      <td>-0.028242</td>\n",
       "    </tr>\n",
       "    <tr>\n",
       "      <th>VEHCOUNT</th>\n",
       "      <td>-0.095072</td>\n",
       "      <td>-0.331278</td>\n",
       "      <td>0.399674</td>\n",
       "      <td>-0.317361</td>\n",
       "      <td>-0.307314</td>\n",
       "      <td>1.000000</td>\n",
       "      <td>-0.022986</td>\n",
       "      <td>-0.495222</td>\n",
       "      <td>-0.011219</td>\n",
       "      <td>-0.010128</td>\n",
       "      <td>-0.023759</td>\n",
       "      <td>-0.029270</td>\n",
       "      <td>-0.238594</td>\n",
       "      <td>0.071872</td>\n",
       "    </tr>\n",
       "    <tr>\n",
       "      <th>JUNCTIONTYPE</th>\n",
       "      <td>0.226536</td>\n",
       "      <td>0.139857</td>\n",
       "      <td>0.055472</td>\n",
       "      <td>0.018081</td>\n",
       "      <td>0.036734</td>\n",
       "      <td>-0.022986</td>\n",
       "      <td>1.000000</td>\n",
       "      <td>-0.037501</td>\n",
       "      <td>-0.036587</td>\n",
       "      <td>-0.055717</td>\n",
       "      <td>-0.069881</td>\n",
       "      <td>-0.079520</td>\n",
       "      <td>-0.140093</td>\n",
       "      <td>-0.112266</td>\n",
       "    </tr>\n",
       "    <tr>\n",
       "      <th>SDOT_COLCODE</th>\n",
       "      <td>-0.071258</td>\n",
       "      <td>0.301871</td>\n",
       "      <td>-0.168948</td>\n",
       "      <td>0.274884</td>\n",
       "      <td>0.407915</td>\n",
       "      <td>-0.495222</td>\n",
       "      <td>-0.037501</td>\n",
       "      <td>1.000000</td>\n",
       "      <td>0.104003</td>\n",
       "      <td>-0.043033</td>\n",
       "      <td>-0.018387</td>\n",
       "      <td>0.023679</td>\n",
       "      <td>0.336412</td>\n",
       "      <td>-0.065964</td>\n",
       "    </tr>\n",
       "    <tr>\n",
       "      <th>UNDERINFL</th>\n",
       "      <td>-0.046892</td>\n",
       "      <td>-0.011129</td>\n",
       "      <td>0.018792</td>\n",
       "      <td>0.014719</td>\n",
       "      <td>-0.018492</td>\n",
       "      <td>-0.011219</td>\n",
       "      <td>-0.036587</td>\n",
       "      <td>0.104003</td>\n",
       "      <td>1.000000</td>\n",
       "      <td>-0.033864</td>\n",
       "      <td>-0.029778</td>\n",
       "      <td>0.087527</td>\n",
       "      <td>0.096869</td>\n",
       "      <td>0.018799</td>\n",
       "    </tr>\n",
       "    <tr>\n",
       "      <th>WEATHER</th>\n",
       "      <td>-0.071582</td>\n",
       "      <td>-0.103638</td>\n",
       "      <td>-0.055842</td>\n",
       "      <td>-0.013685</td>\n",
       "      <td>-0.041459</td>\n",
       "      <td>-0.010128</td>\n",
       "      <td>-0.055717</td>\n",
       "      <td>-0.043033</td>\n",
       "      <td>-0.033864</td>\n",
       "      <td>1.000000</td>\n",
       "      <td>0.597986</td>\n",
       "      <td>0.219249</td>\n",
       "      <td>0.071607</td>\n",
       "      <td>0.037315</td>\n",
       "    </tr>\n",
       "    <tr>\n",
       "      <th>ROADCOND</th>\n",
       "      <td>-0.077608</td>\n",
       "      <td>-0.096277</td>\n",
       "      <td>-0.055682</td>\n",
       "      <td>-0.010833</td>\n",
       "      <td>-0.048844</td>\n",
       "      <td>-0.023759</td>\n",
       "      <td>-0.069881</td>\n",
       "      <td>-0.018387</td>\n",
       "      <td>-0.029778</td>\n",
       "      <td>0.597986</td>\n",
       "      <td>1.000000</td>\n",
       "      <td>0.225264</td>\n",
       "      <td>0.092759</td>\n",
       "      <td>0.033865</td>\n",
       "    </tr>\n",
       "    <tr>\n",
       "      <th>LIGHTCOND</th>\n",
       "      <td>-0.064258</td>\n",
       "      <td>-0.088450</td>\n",
       "      <td>-0.047089</td>\n",
       "      <td>0.003564</td>\n",
       "      <td>-0.024753</td>\n",
       "      <td>-0.029270</td>\n",
       "      <td>-0.079520</td>\n",
       "      <td>0.023679</td>\n",
       "      <td>0.087527</td>\n",
       "      <td>0.219249</td>\n",
       "      <td>0.225264</td>\n",
       "      <td>1.000000</td>\n",
       "      <td>0.116108</td>\n",
       "      <td>0.050092</td>\n",
       "    </tr>\n",
       "    <tr>\n",
       "      <th>ST_COLCODE</th>\n",
       "      <td>-0.194237</td>\n",
       "      <td>-0.007274</td>\n",
       "      <td>-0.209080</td>\n",
       "      <td>-0.264272</td>\n",
       "      <td>0.202760</td>\n",
       "      <td>-0.238594</td>\n",
       "      <td>-0.140093</td>\n",
       "      <td>0.336412</td>\n",
       "      <td>0.096869</td>\n",
       "      <td>0.071607</td>\n",
       "      <td>0.092759</td>\n",
       "      <td>0.116108</td>\n",
       "      <td>1.000000</td>\n",
       "      <td>0.111284</td>\n",
       "    </tr>\n",
       "    <tr>\n",
       "      <th>HITPARKEDCAR</th>\n",
       "      <td>-0.119919</td>\n",
       "      <td>-0.183681</td>\n",
       "      <td>-0.046242</td>\n",
       "      <td>-0.032722</td>\n",
       "      <td>-0.028242</td>\n",
       "      <td>0.071872</td>\n",
       "      <td>-0.112266</td>\n",
       "      <td>-0.065964</td>\n",
       "      <td>0.018799</td>\n",
       "      <td>0.037315</td>\n",
       "      <td>0.033865</td>\n",
       "      <td>0.050092</td>\n",
       "      <td>0.111284</td>\n",
       "      <td>1.000000</td>\n",
       "    </tr>\n",
       "  </tbody>\n",
       "</table>\n",
       "</div>"
      ],
      "text/plain": [
       "               ADDRTYPE  COLLISIONTYPE  PERSONCOUNT  PEDCOUNT  PEDCYLCOUNT  \\\n",
       "ADDRTYPE       1.000000       0.211776     0.056686  0.145445     0.082704   \n",
       "COLLISIONTYPE  0.211776       1.000000     0.002673  0.313702     0.372841   \n",
       "PERSONCOUNT    0.056686       0.002673     1.000000 -0.027211    -0.042725   \n",
       "PEDCOUNT       0.145445       0.313702    -0.027211  1.000000    -0.018662   \n",
       "PEDCYLCOUNT    0.082704       0.372841    -0.042725 -0.018662     1.000000   \n",
       "VEHCOUNT      -0.095072      -0.331278     0.399674 -0.317361    -0.307314   \n",
       "JUNCTIONTYPE   0.226536       0.139857     0.055472  0.018081     0.036734   \n",
       "SDOT_COLCODE  -0.071258       0.301871    -0.168948  0.274884     0.407915   \n",
       "UNDERINFL     -0.046892      -0.011129     0.018792  0.014719    -0.018492   \n",
       "WEATHER       -0.071582      -0.103638    -0.055842 -0.013685    -0.041459   \n",
       "ROADCOND      -0.077608      -0.096277    -0.055682 -0.010833    -0.048844   \n",
       "LIGHTCOND     -0.064258      -0.088450    -0.047089  0.003564    -0.024753   \n",
       "ST_COLCODE    -0.194237      -0.007274    -0.209080 -0.264272     0.202760   \n",
       "HITPARKEDCAR  -0.119919      -0.183681    -0.046242 -0.032722    -0.028242   \n",
       "\n",
       "               VEHCOUNT  JUNCTIONTYPE  SDOT_COLCODE  UNDERINFL   WEATHER  \\\n",
       "ADDRTYPE      -0.095072      0.226536     -0.071258  -0.046892 -0.071582   \n",
       "COLLISIONTYPE -0.331278      0.139857      0.301871  -0.011129 -0.103638   \n",
       "PERSONCOUNT    0.399674      0.055472     -0.168948   0.018792 -0.055842   \n",
       "PEDCOUNT      -0.317361      0.018081      0.274884   0.014719 -0.013685   \n",
       "PEDCYLCOUNT   -0.307314      0.036734      0.407915  -0.018492 -0.041459   \n",
       "VEHCOUNT       1.000000     -0.022986     -0.495222  -0.011219 -0.010128   \n",
       "JUNCTIONTYPE  -0.022986      1.000000     -0.037501  -0.036587 -0.055717   \n",
       "SDOT_COLCODE  -0.495222     -0.037501      1.000000   0.104003 -0.043033   \n",
       "UNDERINFL     -0.011219     -0.036587      0.104003   1.000000 -0.033864   \n",
       "WEATHER       -0.010128     -0.055717     -0.043033  -0.033864  1.000000   \n",
       "ROADCOND      -0.023759     -0.069881     -0.018387  -0.029778  0.597986   \n",
       "LIGHTCOND     -0.029270     -0.079520      0.023679   0.087527  0.219249   \n",
       "ST_COLCODE    -0.238594     -0.140093      0.336412   0.096869  0.071607   \n",
       "HITPARKEDCAR   0.071872     -0.112266     -0.065964   0.018799  0.037315   \n",
       "\n",
       "               ROADCOND  LIGHTCOND  ST_COLCODE  HITPARKEDCAR  \n",
       "ADDRTYPE      -0.077608  -0.064258   -0.194237     -0.119919  \n",
       "COLLISIONTYPE -0.096277  -0.088450   -0.007274     -0.183681  \n",
       "PERSONCOUNT   -0.055682  -0.047089   -0.209080     -0.046242  \n",
       "PEDCOUNT      -0.010833   0.003564   -0.264272     -0.032722  \n",
       "PEDCYLCOUNT   -0.048844  -0.024753    0.202760     -0.028242  \n",
       "VEHCOUNT      -0.023759  -0.029270   -0.238594      0.071872  \n",
       "JUNCTIONTYPE  -0.069881  -0.079520   -0.140093     -0.112266  \n",
       "SDOT_COLCODE  -0.018387   0.023679    0.336412     -0.065964  \n",
       "UNDERINFL     -0.029778   0.087527    0.096869      0.018799  \n",
       "WEATHER        0.597986   0.219249    0.071607      0.037315  \n",
       "ROADCOND       1.000000   0.225264    0.092759      0.033865  \n",
       "LIGHTCOND      0.225264   1.000000    0.116108      0.050092  \n",
       "ST_COLCODE     0.092759   0.116108    1.000000      0.111284  \n",
       "HITPARKEDCAR   0.033865   0.050092    0.111284      1.000000  "
      ]
     },
     "execution_count": 28,
     "metadata": {},
     "output_type": "execute_result"
    }
   ],
   "source": [
    "features.corr()"
   ]
  },
  {
   "cell_type": "code",
   "execution_count": 29,
   "metadata": {
    "scrolled": true
   },
   "outputs": [
    {
     "data": {
      "text/plain": [
       "<AxesSubplot:>"
      ]
     },
     "execution_count": 29,
     "metadata": {},
     "output_type": "execute_result"
    },
    {
     "data": {
      "image/png": "[encoded data removed]",
      "text/plain": [
       "<Figure size 720x720 with 2 Axes>"
      ]
     },
     "metadata": {
      "needs_background": "light"
     },
     "output_type": "display_data"
    }
   ],
   "source": [
    "import seaborn as sns\n",
    "import matplotlib.pyplot as plt\n",
    "%matplotlib inline\n",
    "\n",
    "plt.figure(figsize= (10, 10))\n",
    "sns.heatmap(features.corr())"
   ]
  },
  {
   "cell_type": "markdown",
   "metadata": {},
   "source": [
    "### All the columns have a correlation less than 0.6 which is a good sign that the data is not multicollinear."
   ]
  },
  {
   "cell_type": "code",
   "execution_count": 30,
   "metadata": {},
   "outputs": [],
   "source": [
    "# Balancing the data with SMOTE Technique, Splitting the Training & Test Data\n",
    "\n",
    "from imblearn.over_sampling import SMOTE\n",
    "from sklearn.model_selection import train_test_split\n",
    "\n",
    "y = New_Collisions1['SEVERITYCODE']\n",
    "X = New_Collisions1.drop('SEVERITYCODE', axis = 1)\n",
    "X_train, X_test, y_train, y_test = train_test_split(X, y, test_size=0.25, random_state=27)\n",
    "\n",
    "sm = SMOTE(random_state=27, sampling_strategy=1.0)\n",
    "X_train, y_train = sm.fit_sample(X_train, y_train)"
   ]
  },
  {
   "cell_type": "markdown",
   "metadata": {},
   "source": [
    "## Preliminary Modelling\n",
    "### Modelled the data using Decision Tree, Random Forest, Naive Bayes, KNN Neighbors"
   ]
  },
  {
   "cell_type": "code",
   "execution_count": 31,
   "metadata": {},
   "outputs": [
    {
     "name": "stdout",
     "output_type": "stream",
     "text": [
      "[[20111 11410]\n",
      " [ 3634 10569]]\n",
      "Decision Tree's Accuracy score: 67.09824162365497\n"
     ]
    }
   ],
   "source": [
    "#Decision Tree technique\n",
    "from sklearn import tree\n",
    "from sklearn.tree import DecisionTreeClassifier\n",
    "DT_model = tree.DecisionTreeClassifier()\n",
    "DT_model.fit(X_train, y_train)\n",
    "from sklearn.metrics import confusion_matrix\n",
    "from sklearn.metrics import accuracy_score\n",
    "y_predict = DT_model.predict(X_test)\n",
    "print(confusion_matrix(y_test, y_predict))\n",
    "Decision_Tree_Accuracy_without_PCA = accuracy_score(y_test, y_predict)*100\n",
    "print(\"Decision Tree's Accuracy score:\", Decision_Tree_Accuracy_without_PCA)"
   ]
  },
  {
   "cell_type": "code",
   "execution_count": 32,
   "metadata": {},
   "outputs": [
    {
     "name": "stdout",
     "output_type": "stream",
     "text": [
      "[[20091 11430]\n",
      " [ 3370 10833]]\n",
      "Random Forest's Accuracy score: 67.63187822587699\n"
     ]
    }
   ],
   "source": [
    "#Random Forest technique\n",
    "from sklearn.ensemble import RandomForestClassifier\n",
    "from sklearn.metrics import confusion_matrix\n",
    "from sklearn.metrics import accuracy_score\n",
    "RF_model = RandomForestClassifier()\n",
    "RF_model.fit(X_train, y_train)\n",
    "y_predict = RF_model.predict(X_test)\n",
    "print(confusion_matrix(y_test, y_predict))\n",
    "Random_Forest_without_PCA = accuracy_score(y_test, y_predict)*100\n",
    "print(\"Random Forest's Accuracy score:\",Random_Forest_without_PCA)"
   ]
  },
  {
   "cell_type": "code",
   "execution_count": 33,
   "metadata": {},
   "outputs": [
    {
     "name": "stdout",
     "output_type": "stream",
     "text": [
      "[[28501  3020]\n",
      " [10075  4128]]\n",
      "Naive Bayes Classifiers's Accuracy score: 71.36077333566617\n"
     ]
    }
   ],
   "source": [
    "# Naïve Bayes Classifiers\n",
    "from sklearn.naive_bayes import GaussianNB \n",
    "gnb = GaussianNB() \n",
    "gnb = gnb.fit(X_train, y_train)\n",
    "y_predict = gnb.predict(X_test)\n",
    "print(confusion_matrix(y_test, y_predict))\n",
    "Naïve_Bayes_without_PCA = accuracy_score(y_test, y_predict)*100\n",
    "print(\"Naive Bayes Classifiers's Accuracy score:\", Naïve_Bayes_without_PCA)"
   ]
  },
  {
   "cell_type": "code",
   "execution_count": 34,
   "metadata": {},
   "outputs": [
    {
     "name": "stdout",
     "output_type": "stream",
     "text": [
      "[[25314  6207]\n",
      " [ 6718  7485]]\n",
      "KNN Neighbors Accuracy score: 71.73256932901758\n"
     ]
    }
   ],
   "source": [
    "#KNN Neighbors\n",
    "from sklearn.neighbors import KNeighborsClassifier \n",
    "KNN_model = KNeighborsClassifier(n_neighbors=21) \n",
    "KNN_model.fit(X_train, y_train)\n",
    "y_predict = KNN_model.predict(X_test)\n",
    "print(confusion_matrix(y_test, y_predict))\n",
    "KNN_Neighbors_without_PCA = accuracy_score(y_test, y_predict)*100\n",
    "print(\"KNN Neighbors Accuracy score:\", KNN_Neighbors_without_PCA)"
   ]
  },
  {
   "cell_type": "code",
   "execution_count": 35,
   "metadata": {},
   "outputs": [
    {
     "name": "stdout",
     "output_type": "stream",
     "text": [
      "Decision Tree's Accuracy score: 67.1\n",
      "Random Forest's Accuracy score: 67.63\n",
      "Naive Bayes Classifiers's Accuracy score: 71.36\n",
      "KNN Neighbors Accuracy score: 71.73\n"
     ]
    }
   ],
   "source": [
    "print(\"Decision Tree's Accuracy score:\", round(Decision_Tree_Accuracy_without_PCA, 2))\n",
    "print(\"Random Forest's Accuracy score:\", round(Random_Forest_without_PCA, 2))\n",
    "print(\"Naive Bayes Classifiers's Accuracy score:\", round(Naïve_Bayes_without_PCA, 2))\n",
    "print(\"KNN Neighbors Accuracy score:\", round(KNN_Neighbors_without_PCA, 2))"
   ]
  },
  {
   "cell_type": "markdown",
   "metadata": {},
   "source": [
    "### Principal Component Analysis"
   ]
  },
  {
   "cell_type": "code",
   "execution_count": 36,
   "metadata": {},
   "outputs": [],
   "source": [
    "# Normalize the data\n",
    "from sklearn.preprocessing import scale \n",
    "pca_x = scale(X)"
   ]
  },
  {
   "cell_type": "code",
   "execution_count": 37,
   "metadata": {},
   "outputs": [],
   "source": [
    "from sklearn.decomposition import PCA\n",
    "pca = PCA(n_components = 0.95)\n",
    "reduced = pca.fit(pca_x)"
   ]
  },
  {
   "cell_type": "code",
   "execution_count": 38,
   "metadata": {},
   "outputs": [
    {
     "data": {
      "text/plain": [
       "array([[ 1.06051989e-01,  4.11925187e-01, -2.19635407e-01,\n",
       "         2.66853186e-01,  3.88328497e-01, -4.99483495e-01,\n",
       "         5.15813166e-02,  4.85709082e-01,  3.87710009e-02,\n",
       "        -7.59201393e-02, -6.48645325e-02, -2.06306848e-02,\n",
       "         1.93914122e-01, -1.06116801e-01],\n",
       "       [ 3.18791476e-01,  2.14744055e-01,  2.45272022e-01,\n",
       "         1.52112657e-01, -1.48812135e-02,  1.16187316e-01,\n",
       "         2.71459872e-01, -1.37001070e-01, -7.63860636e-02,\n",
       "        -4.19377925e-01, -4.30741968e-01, -3.20363514e-01,\n",
       "        -3.94617283e-01, -1.92802396e-01],\n",
       "       [ 3.14568389e-01,  1.63141025e-01,  7.39977792e-02,\n",
       "         3.47001104e-01, -1.02952599e-01, -6.22586201e-02,\n",
       "         2.14719249e-01, -1.11837327e-01, -1.55290506e-01,\n",
       "         4.80250089e-01,  4.71015581e-01,  1.85810403e-01,\n",
       "        -3.54589036e-01, -1.96441143e-01],\n",
       "       [-1.50702785e-01, -1.06054347e-01, -1.86601388e-01,\n",
       "         5.99463882e-01, -4.32174457e-01, -1.37512055e-01,\n",
       "        -3.47274206e-01,  5.50396933e-02,  2.52878594e-01,\n",
       "        -1.45385236e-01, -1.34538250e-01,  8.99139788e-02,\n",
       "        -2.79681495e-01,  2.30347129e-01],\n",
       "       [-4.70942807e-02,  1.50352992e-01,  5.66322044e-01,\n",
       "         4.33232425e-02,  1.37170933e-01,  2.12961126e-01,\n",
       "        -4.63719242e-02,  1.53272379e-01,  6.67180607e-01,\n",
       "         1.21963026e-02,  2.37766399e-02,  3.12705992e-01,\n",
       "         2.90443802e-02, -1.35258301e-01],\n",
       "       [-2.92734279e-01,  1.90850241e-01,  4.31994458e-01,\n",
       "         1.81269992e-01,  2.55138433e-01,  1.48792449e-01,\n",
       "        -4.81781344e-01,  1.28480874e-01, -4.59219563e-01,\n",
       "         8.47671098e-02,  9.09905300e-02, -2.44432155e-01,\n",
       "        -1.13264161e-01,  1.53708164e-01],\n",
       "       [ 3.18758559e-01,  3.32138540e-02,  1.02681458e-01,\n",
       "         5.54522362e-02,  2.14448495e-01,  2.58575221e-02,\n",
       "         2.23990269e-01, -6.46512795e-02,  1.61941146e-02,\n",
       "         2.50555192e-04, -1.88948409e-02,  1.34814735e-01,\n",
       "         1.76818695e-02,  8.73817031e-01],\n",
       "       [ 2.04356901e-01,  6.46554139e-03, -2.68689576e-03,\n",
       "        -5.53235815e-02,  8.37845740e-02,  3.73443884e-03,\n",
       "        -2.81459527e-01, -8.60227809e-02, -3.76657538e-01,\n",
       "        -2.33809365e-01, -2.25979400e-01,  7.70409584e-01,\n",
       "        -8.01839156e-03, -1.42392835e-01],\n",
       "       [-6.13075698e-01, -3.12125599e-02,  1.18185555e-01,\n",
       "         1.50441111e-01, -9.72944838e-02,  2.27867167e-02,\n",
       "         6.21802430e-01,  1.96651334e-01, -2.48893795e-01,\n",
       "        -7.97293222e-02, -7.93123563e-02,  2.71862671e-01,\n",
       "        -3.24090923e-02,  4.13902723e-02],\n",
       "       [ 3.49659364e-01, -3.17245160e-01,  4.09010456e-01,\n",
       "         1.59611709e-01, -4.19022575e-01, -9.67504429e-02,\n",
       "         3.19774255e-02,  3.25646313e-01, -2.02848312e-01,\n",
       "        -5.37117187e-02,  2.62338510e-02, -9.38003953e-02,\n",
       "         4.86765605e-01, -4.31262485e-02],\n",
       "       [ 8.94923617e-02, -7.27436850e-01,  7.59642537e-03,\n",
       "         2.31755317e-02,  4.36390978e-01, -5.62188469e-02,\n",
       "         2.20733460e-02,  3.17717125e-01,  2.93703849e-02,\n",
       "         3.49321981e-02, -2.37898188e-02, -2.13840029e-02,\n",
       "        -3.96135169e-01, -8.46977333e-02],\n",
       "       [ 7.00846412e-02,  4.96775460e-02, -1.90263873e-01,\n",
       "         8.36349291e-03, -7.73904999e-04,  3.47363898e-01,\n",
       "         1.46772692e-02,  2.20415028e-01, -1.50473831e-02,\n",
       "        -6.13391197e-01,  6.38766022e-01,  4.75512723e-03,\n",
       "        -4.73448009e-02,  1.13205735e-02],\n",
       "       [-1.39628443e-01, -8.70887358e-02,  3.35278320e-01,\n",
       "        -1.48339757e-01,  2.27733996e-02, -6.97917901e-01,\n",
       "        -1.55389724e-02, -3.68114118e-01,  4.27504844e-02,\n",
       "        -3.32163543e-01,  3.05410110e-01, -4.35982675e-03,\n",
       "        -9.53256915e-02,  2.45799215e-02]])"
      ]
     },
     "execution_count": 38,
     "metadata": {},
     "output_type": "execute_result"
    }
   ],
   "source": [
    "reduced.components_"
   ]
  },
  {
   "cell_type": "code",
   "execution_count": 39,
   "metadata": {},
   "outputs": [
    {
     "data": {
      "text/plain": [
       "array([0.17603498, 0.14489198, 0.10777555, 0.08147445, 0.07689367,\n",
       "       0.06957225, 0.06590487, 0.05855866, 0.05441824, 0.0440079 ,\n",
       "       0.03949239, 0.02867866, 0.02853283])"
      ]
     },
     "execution_count": 39,
     "metadata": {},
     "output_type": "execute_result"
    }
   ],
   "source": [
    "reduced.explained_variance_ratio_"
   ]
  },
  {
   "cell_type": "markdown",
   "metadata": {},
   "source": [
    "### After performing PCA, the number of features reduced from 14 to 13 which show 95% variance."
   ]
  },
  {
   "cell_type": "code",
   "execution_count": 40,
   "metadata": {},
   "outputs": [
    {
     "data": {
      "text/plain": [
       "array([[-0.70778162,  0.0726789 ,  1.54783175, ...,  0.71861569,\n",
       "        -0.15590806, -0.15925535],\n",
       "       [ 0.03003836, -0.62654191,  0.51326665, ..., -0.34199359,\n",
       "         0.49270491,  0.04118282],\n",
       "       [-1.77675342, -0.48659257, -0.64141515, ...,  0.33974052,\n",
       "        -0.84092201, -1.29092349],\n",
       "       ...,\n",
       "       [ 0.36754178,  1.52972239, -0.06615608, ..., -1.15145876,\n",
       "         0.00923953,  0.00682073],\n",
       "       [ 6.69193838,  0.12102588, -0.05754129, ...,  3.33371847,\n",
       "         1.01986797, -1.07779799],\n",
       "       [-0.37290664, -0.17083149, -0.30009927, ...,  0.14341261,\n",
       "         0.93414209,  0.52879858]])"
      ]
     },
     "execution_count": 40,
     "metadata": {},
     "output_type": "execute_result"
    }
   ],
   "source": [
    "New_feats = reduced.fit_transform(pca_x)\n",
    "New_feats"
   ]
  },
  {
   "cell_type": "code",
   "execution_count": 41,
   "metadata": {},
   "outputs": [],
   "source": [
    "from sklearn.model_selection import train_test_split\n",
    "y = New_Collisions1['SEVERITYCODE']\n",
    "X = New_feats\n",
    "X_train, X_test, y_train, y_test = train_test_split(X, y, test_size=0.25,\n",
    "random_state=12345)"
   ]
  },
  {
   "cell_type": "code",
   "execution_count": 42,
   "metadata": {},
   "outputs": [
    {
     "name": "stdout",
     "output_type": "stream",
     "text": [
      "[[28407  3017]\n",
      " [ 9072  5228]]\n",
      "Decision Tree's Accuracy score after PCA: 73.56093080220452\n"
     ]
    }
   ],
   "source": [
    "#Decision Tree technique\n",
    "from sklearn import tree\n",
    "from sklearn.tree import DecisionTreeClassifier\n",
    "PCA_DT_model = tree.DecisionTreeClassifier()\n",
    "PCA_DT_model.fit(X_train, y_train)\n",
    "from sklearn.metrics import confusion_matrix\n",
    "from sklearn.metrics import accuracy_score\n",
    "y_predict = PCA_DT_model.predict(X_test)\n",
    "print(confusion_matrix(y_test, y_predict))\n",
    "Decision_Tree_with_PCA = accuracy_score(y_test, y_predict)*100\n",
    "print(\"Decision Tree's Accuracy score after PCA:\", Decision_Tree_with_PCA)"
   ]
  },
  {
   "cell_type": "code",
   "execution_count": 43,
   "metadata": {},
   "outputs": [
    {
     "name": "stdout",
     "output_type": "stream",
     "text": [
      "[[28505  2919]\n",
      " [ 8946  5354]]\n",
      "Random Forest's Accuracy score after PCA: 74.0508266993264\n"
     ]
    }
   ],
   "source": [
    "#Random Forest technique\n",
    "from sklearn.ensemble import RandomForestClassifier\n",
    "from sklearn.metrics import confusion_matrix\n",
    "from sklearn.metrics import accuracy_score\n",
    "PCA_RF_model = RandomForestClassifier()\n",
    "PCA_RF_model.fit(X_train, y_train)\n",
    "y_predict = PCA_RF_model.predict(X_test)\n",
    "print(confusion_matrix(y_test, y_predict))\n",
    "Random_Forest_with_PCA = accuracy_score(y_test, y_predict)*100\n",
    "print(\"Random Forest's Accuracy score after PCA:\",Random_Forest_with_PCA)"
   ]
  },
  {
   "cell_type": "code",
   "execution_count": 44,
   "metadata": {},
   "outputs": [
    {
     "name": "stdout",
     "output_type": "stream",
     "text": [
      "[[27818  3606]\n",
      " [ 9717  4583]]\n",
      "Naive Bayes Classifiers's Accuracy score after PCA: 70.86212929752428\n"
     ]
    }
   ],
   "source": [
    "# Naïve Bayes Classifiers\n",
    "from sklearn.naive_bayes import GaussianNB \n",
    "PCA_gnb = GaussianNB() \n",
    "PCA_gnb = PCA_gnb.fit(X_train, y_train)\n",
    "y_predict = PCA_gnb.predict(X_test)\n",
    "print(confusion_matrix(y_test, y_predict))\n",
    "Naive_Bayes_with_PCA = accuracy_score(y_test, y_predict)*100\n",
    "print(\"Naive Bayes Classifiers's Accuracy score after PCA:\", Naive_Bayes_with_PCA)"
   ]
  },
  {
   "cell_type": "code",
   "execution_count": 45,
   "metadata": {},
   "outputs": [
    {
     "name": "stdout",
     "output_type": "stream",
     "text": [
      "[[28408  3016]\n",
      " [ 8923  5377]]\n",
      "KNN Neighbors Accuracy score after PCA: 73.88898609045577\n"
     ]
    }
   ],
   "source": [
    "#KNN Neighbors\n",
    "from sklearn.neighbors import KNeighborsClassifier \n",
    "PCA_KNN_model = KNeighborsClassifier(n_neighbors=21) \n",
    "PCA_KNN_model.fit(X_train, y_train)\n",
    "y_predict = PCA_KNN_model.predict(X_test)\n",
    "print(confusion_matrix(y_test, y_predict))\n",
    "KNN_Neighbors_with_PCA = accuracy_score(y_test, y_predict)*100\n",
    "print(\"KNN Neighbors Accuracy score after PCA:\", KNN_Neighbors_with_PCA)"
   ]
  },
  {
   "cell_type": "code",
   "execution_count": 46,
   "metadata": {},
   "outputs": [
    {
     "name": "stdout",
     "output_type": "stream",
     "text": [
      "Decision Tree's Accuracy score after PCA: 73.56\n",
      "Random Forest's Accuracy score after PCA: 74.05\n",
      "Naive Bayes Classifiers's Accuracy score after PCA: 70.86\n",
      "KNN Neighbors Accuracy score after PCA: 73.89\n"
     ]
    }
   ],
   "source": [
    "print(\"Decision Tree's Accuracy score after PCA:\", round(Decision_Tree_with_PCA, 2))\n",
    "print(\"Random Forest's Accuracy score after PCA:\", round(Random_Forest_with_PCA, 2))\n",
    "print(\"Naive Bayes Classifiers's Accuracy score after PCA:\", round(Naive_Bayes_with_PCA, 2))\n",
    "print(\"KNN Neighbors Accuracy score after PCA:\", round(KNN_Neighbors_with_PCA, 2))"
   ]
  },
  {
   "cell_type": "markdown",
   "metadata": {},
   "source": [
    "### Before performing PCA, KNN Neighbors was leading with 71.73% accuracy. But after performing PCA, Random Forest model gave the most accurate model with an accuracy score, 74.05%."
   ]
  },
  {
   "cell_type": "code",
   "execution_count": 47,
   "metadata": {},
   "outputs": [
    {
     "data": {
      "text/html": [
       "<div>\n",
       "<style scoped>\n",
       "    .dataframe tbody tr th:only-of-type {\n",
       "        vertical-align: middle;\n",
       "    }\n",
       "\n",
       "    .dataframe tbody tr th {\n",
       "        vertical-align: top;\n",
       "    }\n",
       "\n",
       "    .dataframe thead th {\n",
       "        text-align: right;\n",
       "    }\n",
       "</style>\n",
       "<table border=\"1\" class=\"dataframe\">\n",
       "  <thead>\n",
       "    <tr style=\"text-align: right;\">\n",
       "      <th></th>\n",
       "      <th>importance</th>\n",
       "    </tr>\n",
       "  </thead>\n",
       "  <tbody>\n",
       "    <tr>\n",
       "      <th>ADDRTYPE</th>\n",
       "      <td>0.179602</td>\n",
       "    </tr>\n",
       "    <tr>\n",
       "      <th>PEDCOUNT</th>\n",
       "      <td>0.112927</td>\n",
       "    </tr>\n",
       "    <tr>\n",
       "      <th>COLLISIONTYPE</th>\n",
       "      <td>0.111116</td>\n",
       "    </tr>\n",
       "    <tr>\n",
       "      <th>ROADCOND</th>\n",
       "      <td>0.093769</td>\n",
       "    </tr>\n",
       "    <tr>\n",
       "      <th>PEDCYLCOUNT</th>\n",
       "      <td>0.081783</td>\n",
       "    </tr>\n",
       "    <tr>\n",
       "      <th>WEATHER</th>\n",
       "      <td>0.072709</td>\n",
       "    </tr>\n",
       "    <tr>\n",
       "      <th>JUNCTIONTYPE</th>\n",
       "      <td>0.066165</td>\n",
       "    </tr>\n",
       "    <tr>\n",
       "      <th>PERSONCOUNT</th>\n",
       "      <td>0.063679</td>\n",
       "    </tr>\n",
       "    <tr>\n",
       "      <th>VEHCOUNT</th>\n",
       "      <td>0.060225</td>\n",
       "    </tr>\n",
       "    <tr>\n",
       "      <th>UNDERINFL</th>\n",
       "      <td>0.042417</td>\n",
       "    </tr>\n",
       "    <tr>\n",
       "      <th>ST_COLCODE</th>\n",
       "      <td>0.040724</td>\n",
       "    </tr>\n",
       "    <tr>\n",
       "      <th>SDOT_COLCODE</th>\n",
       "      <td>0.038068</td>\n",
       "    </tr>\n",
       "    <tr>\n",
       "      <th>LIGHTCOND</th>\n",
       "      <td>0.036815</td>\n",
       "    </tr>\n",
       "  </tbody>\n",
       "</table>\n",
       "</div>"
      ],
      "text/plain": [
       "               importance\n",
       "ADDRTYPE         0.179602\n",
       "PEDCOUNT         0.112927\n",
       "COLLISIONTYPE    0.111116\n",
       "ROADCOND         0.093769\n",
       "PEDCYLCOUNT      0.081783\n",
       "WEATHER          0.072709\n",
       "JUNCTIONTYPE     0.066165\n",
       "PERSONCOUNT      0.063679\n",
       "VEHCOUNT         0.060225\n",
       "UNDERINFL        0.042417\n",
       "ST_COLCODE       0.040724\n",
       "SDOT_COLCODE     0.038068\n",
       "LIGHTCOND        0.036815"
      ]
     },
     "execution_count": 47,
     "metadata": {},
     "output_type": "execute_result"
    }
   ],
   "source": [
    "#Q2- What are the three most important features in this model.\n",
    "import pandas as pd\n",
    "cols = ['ADDRTYPE', 'COLLISIONTYPE', 'PERSONCOUNT', 'PEDCOUNT', 'PEDCYLCOUNT', 'VEHCOUNT', 'JUNCTIONTYPE', \n",
    "        'SDOT_COLCODE', 'UNDERINFL', 'WEATHER', 'ROADCOND', 'LIGHTCOND', 'ST_COLCODE', 'HITPARKEDCAR']\n",
    "feature_importances=pd.DataFrame(PCA_RF_model.feature_importances_,index =cols[0:13],\n",
    "columns=['importance']).sort_values('importance',ascending=False)\n",
    "feature_importances"
   ]
  },
  {
   "cell_type": "markdown",
   "metadata": {},
   "source": [
    "### The top 3 most important features are Address Count, Pedestrians Count, & Collision Type in determining the severity of a car collision."
   ]
  },
  {
   "cell_type": "code",
   "execution_count": null,
   "metadata": {},
   "outputs": [],
   "source": []
  }
 ],
 "metadata": {
  "kernelspec": {
   "display_name": "Python 3",
   "language": "python",
   "name": "python3"
  },
  "language_info": {
   "codemirror_mode": {
    "name": "ipython",
    "version": 3
   },
   "file_extension": ".py",
   "mimetype": "text/x-python",
   "name": "python",
   "nbconvert_exporter": "python",
   "pygments_lexer": "ipython3",
   "version": "3.8.6rc1"
  }
 },
 "nbformat": 4,
 "nbformat_minor": 4
}
